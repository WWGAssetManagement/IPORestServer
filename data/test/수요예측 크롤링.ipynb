{
 "cells": [
  {
   "cell_type": "code",
   "execution_count": 113,
   "metadata": {
    "collapsed": true
   },
   "outputs": [],
   "source": [
    "import pandas as pd\n",
    "import numpy as np"
   ]
  },
  {
   "cell_type": "code",
   "execution_count": 114,
   "outputs": [],
   "source": [
    "url = 'http://www.38.co.kr/html/fund/index.htm?o=r&page=1'"
   ],
   "metadata": {
    "collapsed": false,
    "pycharm": {
     "name": "#%%\n"
    }
   }
  },
  {
   "cell_type": "code",
   "execution_count": 115,
   "outputs": [],
   "source": [
    "data = pd.read_html(url, match='종목명')"
   ],
   "metadata": {
    "collapsed": false,
    "pycharm": {
     "name": "#%%\n"
    }
   }
  },
  {
   "cell_type": "code",
   "execution_count": 116,
   "outputs": [],
   "source": [
    "ipo_df = data[0].drop(columns=['Unnamed: 6', 'Unnamed: 7']).dropna()"
   ],
   "metadata": {
    "collapsed": false,
    "pycharm": {
     "name": "#%%\n"
    }
   }
  },
  {
   "cell_type": "code",
   "execution_count": 117,
   "outputs": [],
   "source": [
    "ipo_df = ipo_df.replace('-', np.nan)"
   ],
   "metadata": {
    "collapsed": false,
    "pycharm": {
     "name": "#%%\n"
    }
   }
  },
  {
   "cell_type": "code",
   "execution_count": 118,
   "outputs": [],
   "source": [
    "ipo_df.set_index('종목명', inplace=True)"
   ],
   "metadata": {
    "collapsed": false,
    "pycharm": {
     "name": "#%%\n"
    }
   }
  },
  {
   "cell_type": "code",
   "execution_count": 119,
   "outputs": [],
   "source": [
    "demant_forecast_time = ipo_df[['수요예측일']]"
   ],
   "metadata": {
    "collapsed": false,
    "pycharm": {
     "name": "#%%\n"
    }
   }
  },
  {
   "cell_type": "code",
   "execution_count": 120,
   "outputs": [
    {
     "data": {
      "text/plain": "종목명\n지투파워           [2022, 03, 17~03, 18]\n유진스팩8호         [2022, 03, 17~03, 18]\n신한스팩9호         [2022, 03, 15~03, 16]\n보로노이           [2022, 03, 14~03, 15]\n세아메카닉스         [2022, 03, 10~03, 11]\n미래에셋비전스팩1호     [2022, 03, 10~03, 11]\n공구우먼           [2022, 03, 07~03, 08]\n유일로보틱스         [2022, 02, 24~02, 25]\n대명에너지          [2022, 02, 23~02, 24]\n모아데이타          [2022, 02, 21~02, 22]\n코람코더원리츠(유가)    [2022, 02, 21~02, 22]\nSK증권스팩7호       [2022, 02, 16~02, 17]\n비씨엔씨           [2022, 02, 16~02, 17]\n노을             [2022, 02, 15~02, 16]\n브이씨            [2022, 02, 10~02, 11]\n풍원정밀           [2022, 02, 10~02, 11]\n스톤브릿지벤처스       [2022, 02, 09~02, 10]\n하나금융스팩21호      [2022, 02, 09~02, 10]\n퓨런티어           [2022, 02, 07~02, 08]\nIBKS스팩17호      [2022, 02, 03~02, 04]\nName: 수요예측일, dtype: object"
     },
     "execution_count": 120,
     "metadata": {},
     "output_type": "execute_result"
    }
   ],
   "source": [
    "demant_forecast_time['수요예측일'].str.split('.')"
   ],
   "metadata": {
    "collapsed": false,
    "pycharm": {
     "name": "#%%\n"
    }
   }
  },
  {
   "cell_type": "code",
   "execution_count": 121,
   "outputs": [
    {
     "name": "stderr",
     "output_type": "stream",
     "text": [
      "C:\\Users\\userpc\\AppData\\Local\\Temp/ipykernel_27972/547937437.py:1: SettingWithCopyWarning: \n",
      "A value is trying to be set on a copy of a slice from a DataFrame.\n",
      "Try using .loc[row_indexer,col_indexer] = value instead\n",
      "\n",
      "See the caveats in the documentation: https://pandas.pydata.org/pandas-docs/stable/user_guide/indexing.html#returning-a-view-versus-a-copy\n",
      "  demant_forecast_time['year'] = list(map(lambda x: x[0], demant_forecast_time['수요예측일'].str.split('.')))\n",
      "C:\\Users\\userpc\\AppData\\Local\\Temp/ipykernel_27972/547937437.py:2: SettingWithCopyWarning: \n",
      "A value is trying to be set on a copy of a slice from a DataFrame.\n",
      "Try using .loc[row_indexer,col_indexer] = value instead\n",
      "\n",
      "See the caveats in the documentation: https://pandas.pydata.org/pandas-docs/stable/user_guide/indexing.html#returning-a-view-versus-a-copy\n",
      "  demant_forecast_time['demand_forecast_start'] = list(map(lambda x: x[0], demant_forecast_time['수요예측일'].str.split('~')))\n",
      "C:\\Users\\userpc\\AppData\\Local\\Temp/ipykernel_27972/547937437.py:3: SettingWithCopyWarning: \n",
      "A value is trying to be set on a copy of a slice from a DataFrame.\n",
      "Try using .loc[row_indexer,col_indexer] = value instead\n",
      "\n",
      "See the caveats in the documentation: https://pandas.pydata.org/pandas-docs/stable/user_guide/indexing.html#returning-a-view-versus-a-copy\n",
      "  demant_forecast_time['demand_forecast_end'] = list(map(lambda x: x[1],demant_forecast_time['수요예측일'].str.split('~')))\n"
     ]
    }
   ],
   "source": [
    "demant_forecast_time['year'] = list(map(lambda x: x[0], demant_forecast_time['수요예측일'].str.split('.')))\n",
    "demant_forecast_time['demand_forecast_start'] = list(map(lambda x: x[0], demant_forecast_time['수요예측일'].str.split('~')))\n",
    "demant_forecast_time['demand_forecast_end'] = list(map(lambda x: x[1],demant_forecast_time['수요예측일'].str.split('~')))"
   ],
   "metadata": {
    "collapsed": false,
    "pycharm": {
     "name": "#%%\n"
    }
   }
  },
  {
   "cell_type": "code",
   "execution_count": 122,
   "outputs": [
    {
     "name": "stderr",
     "output_type": "stream",
     "text": [
      "C:\\Users\\userpc\\AppData\\Local\\Temp/ipykernel_27972/2741865784.py:1: SettingWithCopyWarning: \n",
      "A value is trying to be set on a copy of a slice from a DataFrame.\n",
      "Try using .loc[row_indexer,col_indexer] = value instead\n",
      "\n",
      "See the caveats in the documentation: https://pandas.pydata.org/pandas-docs/stable/user_guide/indexing.html#returning-a-view-versus-a-copy\n",
      "  demant_forecast_time['demand_forecast_end'] = demant_forecast_time['year']+'.'+demant_forecast_time['demand_forecast_end']\n"
     ]
    }
   ],
   "source": [
    "demant_forecast_time['demand_forecast_end'] = demant_forecast_time['year']+'.'+demant_forecast_time['demand_forecast_end']"
   ],
   "metadata": {
    "collapsed": false,
    "pycharm": {
     "name": "#%%\n"
    }
   }
  },
  {
   "cell_type": "code",
   "execution_count": 123,
   "outputs": [
    {
     "data": {
      "text/plain": "                        수요예측일  year demand_forecast_start demand_forecast_end\n종목명                                                                          \n지투파워         2022.03.17~03.18  2022            2022.03.17          2022.03.18\n유진스팩8호       2022.03.17~03.18  2022            2022.03.17          2022.03.18\n신한스팩9호       2022.03.15~03.16  2022            2022.03.15          2022.03.16\n보로노이         2022.03.14~03.15  2022            2022.03.14          2022.03.15\n세아메카닉스       2022.03.10~03.11  2022            2022.03.10          2022.03.11\n미래에셋비전스팩1호   2022.03.10~03.11  2022            2022.03.10          2022.03.11\n공구우먼         2022.03.07~03.08  2022            2022.03.07          2022.03.08\n유일로보틱스       2022.02.24~02.25  2022            2022.02.24          2022.02.25\n대명에너지        2022.02.23~02.24  2022            2022.02.23          2022.02.24\n모아데이타        2022.02.21~02.22  2022            2022.02.21          2022.02.22\n코람코더원리츠(유가)  2022.02.21~02.22  2022            2022.02.21          2022.02.22\nSK증권스팩7호     2022.02.16~02.17  2022            2022.02.16          2022.02.17\n비씨엔씨         2022.02.16~02.17  2022            2022.02.16          2022.02.17\n노을           2022.02.15~02.16  2022            2022.02.15          2022.02.16\n브이씨          2022.02.10~02.11  2022            2022.02.10          2022.02.11\n풍원정밀         2022.02.10~02.11  2022            2022.02.10          2022.02.11\n스톤브릿지벤처스     2022.02.09~02.10  2022            2022.02.09          2022.02.10\n하나금융스팩21호    2022.02.09~02.10  2022            2022.02.09          2022.02.10\n퓨런티어         2022.02.07~02.08  2022            2022.02.07          2022.02.08\nIBKS스팩17호    2022.02.03~02.04  2022            2022.02.03          2022.02.04",
      "text/html": "<div>\n<style scoped>\n    .dataframe tbody tr th:only-of-type {\n        vertical-align: middle;\n    }\n\n    .dataframe tbody tr th {\n        vertical-align: top;\n    }\n\n    .dataframe thead th {\n        text-align: right;\n    }\n</style>\n<table border=\"1\" class=\"dataframe\">\n  <thead>\n    <tr style=\"text-align: right;\">\n      <th></th>\n      <th>수요예측일</th>\n      <th>year</th>\n      <th>demand_forecast_start</th>\n      <th>demand_forecast_end</th>\n    </tr>\n    <tr>\n      <th>종목명</th>\n      <th></th>\n      <th></th>\n      <th></th>\n      <th></th>\n    </tr>\n  </thead>\n  <tbody>\n    <tr>\n      <th>지투파워</th>\n      <td>2022.03.17~03.18</td>\n      <td>2022</td>\n      <td>2022.03.17</td>\n      <td>2022.03.18</td>\n    </tr>\n    <tr>\n      <th>유진스팩8호</th>\n      <td>2022.03.17~03.18</td>\n      <td>2022</td>\n      <td>2022.03.17</td>\n      <td>2022.03.18</td>\n    </tr>\n    <tr>\n      <th>신한스팩9호</th>\n      <td>2022.03.15~03.16</td>\n      <td>2022</td>\n      <td>2022.03.15</td>\n      <td>2022.03.16</td>\n    </tr>\n    <tr>\n      <th>보로노이</th>\n      <td>2022.03.14~03.15</td>\n      <td>2022</td>\n      <td>2022.03.14</td>\n      <td>2022.03.15</td>\n    </tr>\n    <tr>\n      <th>세아메카닉스</th>\n      <td>2022.03.10~03.11</td>\n      <td>2022</td>\n      <td>2022.03.10</td>\n      <td>2022.03.11</td>\n    </tr>\n    <tr>\n      <th>미래에셋비전스팩1호</th>\n      <td>2022.03.10~03.11</td>\n      <td>2022</td>\n      <td>2022.03.10</td>\n      <td>2022.03.11</td>\n    </tr>\n    <tr>\n      <th>공구우먼</th>\n      <td>2022.03.07~03.08</td>\n      <td>2022</td>\n      <td>2022.03.07</td>\n      <td>2022.03.08</td>\n    </tr>\n    <tr>\n      <th>유일로보틱스</th>\n      <td>2022.02.24~02.25</td>\n      <td>2022</td>\n      <td>2022.02.24</td>\n      <td>2022.02.25</td>\n    </tr>\n    <tr>\n      <th>대명에너지</th>\n      <td>2022.02.23~02.24</td>\n      <td>2022</td>\n      <td>2022.02.23</td>\n      <td>2022.02.24</td>\n    </tr>\n    <tr>\n      <th>모아데이타</th>\n      <td>2022.02.21~02.22</td>\n      <td>2022</td>\n      <td>2022.02.21</td>\n      <td>2022.02.22</td>\n    </tr>\n    <tr>\n      <th>코람코더원리츠(유가)</th>\n      <td>2022.02.21~02.22</td>\n      <td>2022</td>\n      <td>2022.02.21</td>\n      <td>2022.02.22</td>\n    </tr>\n    <tr>\n      <th>SK증권스팩7호</th>\n      <td>2022.02.16~02.17</td>\n      <td>2022</td>\n      <td>2022.02.16</td>\n      <td>2022.02.17</td>\n    </tr>\n    <tr>\n      <th>비씨엔씨</th>\n      <td>2022.02.16~02.17</td>\n      <td>2022</td>\n      <td>2022.02.16</td>\n      <td>2022.02.17</td>\n    </tr>\n    <tr>\n      <th>노을</th>\n      <td>2022.02.15~02.16</td>\n      <td>2022</td>\n      <td>2022.02.15</td>\n      <td>2022.02.16</td>\n    </tr>\n    <tr>\n      <th>브이씨</th>\n      <td>2022.02.10~02.11</td>\n      <td>2022</td>\n      <td>2022.02.10</td>\n      <td>2022.02.11</td>\n    </tr>\n    <tr>\n      <th>풍원정밀</th>\n      <td>2022.02.10~02.11</td>\n      <td>2022</td>\n      <td>2022.02.10</td>\n      <td>2022.02.11</td>\n    </tr>\n    <tr>\n      <th>스톤브릿지벤처스</th>\n      <td>2022.02.09~02.10</td>\n      <td>2022</td>\n      <td>2022.02.09</td>\n      <td>2022.02.10</td>\n    </tr>\n    <tr>\n      <th>하나금융스팩21호</th>\n      <td>2022.02.09~02.10</td>\n      <td>2022</td>\n      <td>2022.02.09</td>\n      <td>2022.02.10</td>\n    </tr>\n    <tr>\n      <th>퓨런티어</th>\n      <td>2022.02.07~02.08</td>\n      <td>2022</td>\n      <td>2022.02.07</td>\n      <td>2022.02.08</td>\n    </tr>\n    <tr>\n      <th>IBKS스팩17호</th>\n      <td>2022.02.03~02.04</td>\n      <td>2022</td>\n      <td>2022.02.03</td>\n      <td>2022.02.04</td>\n    </tr>\n  </tbody>\n</table>\n</div>"
     },
     "execution_count": 123,
     "metadata": {},
     "output_type": "execute_result"
    }
   ],
   "source": [
    "demant_forecast_time"
   ],
   "metadata": {
    "collapsed": false,
    "pycharm": {
     "name": "#%%\n"
    }
   }
  },
  {
   "cell_type": "code",
   "execution_count": 124,
   "outputs": [],
   "source": [
    "hope_price = ipo_df['희망공모가(원)'].str.split('~')"
   ],
   "metadata": {
    "collapsed": false,
    "pycharm": {
     "name": "#%%\n"
    }
   }
  },
  {
   "cell_type": "code",
   "execution_count": 125,
   "outputs": [],
   "source": [
    "hope_price = pd.DataFrame(list(map(lambda x: [float(x[0].replace(',', '')), float(x[1].replace(',', ''))], hope_price)), columns=['hope_price_min', 'hope_price_max'], index=ipo_df.index)"
   ],
   "metadata": {
    "collapsed": false,
    "pycharm": {
     "name": "#%%\n"
    }
   }
  },
  {
   "cell_type": "markdown",
   "source": [
    "## 한글 Columns 영어로 변경"
   ],
   "metadata": {
    "collapsed": false,
    "pycharm": {
     "name": "#%% md\n"
    }
   }
  },
  {
   "cell_type": "code",
   "execution_count": 126,
   "outputs": [
    {
     "data": {
      "text/plain": "                        수요예측일  year demand_forecast_start demand_forecast_end\n종목명                                                                          \n지투파워         2022.03.17~03.18  2022            2022.03.17          2022.03.18\n유진스팩8호       2022.03.17~03.18  2022            2022.03.17          2022.03.18\n신한스팩9호       2022.03.15~03.16  2022            2022.03.15          2022.03.16\n보로노이         2022.03.14~03.15  2022            2022.03.14          2022.03.15\n세아메카닉스       2022.03.10~03.11  2022            2022.03.10          2022.03.11\n미래에셋비전스팩1호   2022.03.10~03.11  2022            2022.03.10          2022.03.11\n공구우먼         2022.03.07~03.08  2022            2022.03.07          2022.03.08\n유일로보틱스       2022.02.24~02.25  2022            2022.02.24          2022.02.25\n대명에너지        2022.02.23~02.24  2022            2022.02.23          2022.02.24\n모아데이타        2022.02.21~02.22  2022            2022.02.21          2022.02.22\n코람코더원리츠(유가)  2022.02.21~02.22  2022            2022.02.21          2022.02.22\nSK증권스팩7호     2022.02.16~02.17  2022            2022.02.16          2022.02.17\n비씨엔씨         2022.02.16~02.17  2022            2022.02.16          2022.02.17\n노을           2022.02.15~02.16  2022            2022.02.15          2022.02.16\n브이씨          2022.02.10~02.11  2022            2022.02.10          2022.02.11\n풍원정밀         2022.02.10~02.11  2022            2022.02.10          2022.02.11\n스톤브릿지벤처스     2022.02.09~02.10  2022            2022.02.09          2022.02.10\n하나금융스팩21호    2022.02.09~02.10  2022            2022.02.09          2022.02.10\n퓨런티어         2022.02.07~02.08  2022            2022.02.07          2022.02.08\nIBKS스팩17호    2022.02.03~02.04  2022            2022.02.03          2022.02.04",
      "text/html": "<div>\n<style scoped>\n    .dataframe tbody tr th:only-of-type {\n        vertical-align: middle;\n    }\n\n    .dataframe tbody tr th {\n        vertical-align: top;\n    }\n\n    .dataframe thead th {\n        text-align: right;\n    }\n</style>\n<table border=\"1\" class=\"dataframe\">\n  <thead>\n    <tr style=\"text-align: right;\">\n      <th></th>\n      <th>수요예측일</th>\n      <th>year</th>\n      <th>demand_forecast_start</th>\n      <th>demand_forecast_end</th>\n    </tr>\n    <tr>\n      <th>종목명</th>\n      <th></th>\n      <th></th>\n      <th></th>\n      <th></th>\n    </tr>\n  </thead>\n  <tbody>\n    <tr>\n      <th>지투파워</th>\n      <td>2022.03.17~03.18</td>\n      <td>2022</td>\n      <td>2022.03.17</td>\n      <td>2022.03.18</td>\n    </tr>\n    <tr>\n      <th>유진스팩8호</th>\n      <td>2022.03.17~03.18</td>\n      <td>2022</td>\n      <td>2022.03.17</td>\n      <td>2022.03.18</td>\n    </tr>\n    <tr>\n      <th>신한스팩9호</th>\n      <td>2022.03.15~03.16</td>\n      <td>2022</td>\n      <td>2022.03.15</td>\n      <td>2022.03.16</td>\n    </tr>\n    <tr>\n      <th>보로노이</th>\n      <td>2022.03.14~03.15</td>\n      <td>2022</td>\n      <td>2022.03.14</td>\n      <td>2022.03.15</td>\n    </tr>\n    <tr>\n      <th>세아메카닉스</th>\n      <td>2022.03.10~03.11</td>\n      <td>2022</td>\n      <td>2022.03.10</td>\n      <td>2022.03.11</td>\n    </tr>\n    <tr>\n      <th>미래에셋비전스팩1호</th>\n      <td>2022.03.10~03.11</td>\n      <td>2022</td>\n      <td>2022.03.10</td>\n      <td>2022.03.11</td>\n    </tr>\n    <tr>\n      <th>공구우먼</th>\n      <td>2022.03.07~03.08</td>\n      <td>2022</td>\n      <td>2022.03.07</td>\n      <td>2022.03.08</td>\n    </tr>\n    <tr>\n      <th>유일로보틱스</th>\n      <td>2022.02.24~02.25</td>\n      <td>2022</td>\n      <td>2022.02.24</td>\n      <td>2022.02.25</td>\n    </tr>\n    <tr>\n      <th>대명에너지</th>\n      <td>2022.02.23~02.24</td>\n      <td>2022</td>\n      <td>2022.02.23</td>\n      <td>2022.02.24</td>\n    </tr>\n    <tr>\n      <th>모아데이타</th>\n      <td>2022.02.21~02.22</td>\n      <td>2022</td>\n      <td>2022.02.21</td>\n      <td>2022.02.22</td>\n    </tr>\n    <tr>\n      <th>코람코더원리츠(유가)</th>\n      <td>2022.02.21~02.22</td>\n      <td>2022</td>\n      <td>2022.02.21</td>\n      <td>2022.02.22</td>\n    </tr>\n    <tr>\n      <th>SK증권스팩7호</th>\n      <td>2022.02.16~02.17</td>\n      <td>2022</td>\n      <td>2022.02.16</td>\n      <td>2022.02.17</td>\n    </tr>\n    <tr>\n      <th>비씨엔씨</th>\n      <td>2022.02.16~02.17</td>\n      <td>2022</td>\n      <td>2022.02.16</td>\n      <td>2022.02.17</td>\n    </tr>\n    <tr>\n      <th>노을</th>\n      <td>2022.02.15~02.16</td>\n      <td>2022</td>\n      <td>2022.02.15</td>\n      <td>2022.02.16</td>\n    </tr>\n    <tr>\n      <th>브이씨</th>\n      <td>2022.02.10~02.11</td>\n      <td>2022</td>\n      <td>2022.02.10</td>\n      <td>2022.02.11</td>\n    </tr>\n    <tr>\n      <th>풍원정밀</th>\n      <td>2022.02.10~02.11</td>\n      <td>2022</td>\n      <td>2022.02.10</td>\n      <td>2022.02.11</td>\n    </tr>\n    <tr>\n      <th>스톤브릿지벤처스</th>\n      <td>2022.02.09~02.10</td>\n      <td>2022</td>\n      <td>2022.02.09</td>\n      <td>2022.02.10</td>\n    </tr>\n    <tr>\n      <th>하나금융스팩21호</th>\n      <td>2022.02.09~02.10</td>\n      <td>2022</td>\n      <td>2022.02.09</td>\n      <td>2022.02.10</td>\n    </tr>\n    <tr>\n      <th>퓨런티어</th>\n      <td>2022.02.07~02.08</td>\n      <td>2022</td>\n      <td>2022.02.07</td>\n      <td>2022.02.08</td>\n    </tr>\n    <tr>\n      <th>IBKS스팩17호</th>\n      <td>2022.02.03~02.04</td>\n      <td>2022</td>\n      <td>2022.02.03</td>\n      <td>2022.02.04</td>\n    </tr>\n  </tbody>\n</table>\n</div>"
     },
     "execution_count": 126,
     "metadata": {},
     "output_type": "execute_result"
    }
   ],
   "source": [
    "demant_forecast_time"
   ],
   "metadata": {
    "collapsed": false,
    "pycharm": {
     "name": "#%%\n"
    }
   }
  },
  {
   "cell_type": "code",
   "execution_count": 127,
   "outputs": [
    {
     "data": {
      "text/plain": "                        수요예측일       희망공모가(원)  확정공모가  공모금액(백만)            주간사\n종목명                                                                         \n지투파워         2022.03.17~03.18  13,500~16,400    NaN   11947.0    한국투자증권,KB증권\n유진스팩8호       2022.03.17~03.18    2,000~2,000    NaN   10000.0           유진증권\n신한스팩9호       2022.03.15~03.16    2,000~2,000    NaN    8000.0         신한금융투자\n보로노이         2022.03.14~03.15  50,000~65,000    NaN  100000.0  한국투자증권,미래에셋증권\n세아메카닉스       2022.03.10~03.11    3,500~4,000    NaN   23275.0         신한금융투자\n미래에셋비전스팩1호   2022.03.10~03.11    2,000~2,000    NaN   11700.0         미래에셋증권\n공구우먼         2022.03.07~03.08  26,000~31,000    NaN   36400.0         미래에셋증권\n유일로보틱스       2022.02.24~02.25    7,600~9,200    NaN   16340.0         한국투자증권\n대명에너지        2022.02.23~02.24  25,000~29,000    NaN  112500.0    한국투자증권,삼성증권\n모아데이타        2022.02.21~02.22  24,000~28,000    NaN   19200.0         하나금융투자\n코람코더원리츠(유가)  2022.02.21~02.22    5,000~5,000    NaN   97500.0    하나금융투자,삼성증권\nSK증권스팩7호     2022.02.16~02.17    2,000~2,000   2000    6000.0           SK증권\n비씨엔씨         2022.02.16~02.17   9,000~11,500  13000   22500.0         NH투자증권\n노을           2022.02.15~02.16  13,000~17,000  10000   19500.0   한국투자증권, 삼성증권\n브이씨          2022.02.10~02.11  15,000~19,500  15000   15000.0         한국투자증권\n풍원정밀         2022.02.10~02.11  13,200~15,200  15200   39600.0           대신증권\n스톤브릿지벤처스     2022.02.09~02.10   9,000~10,500   8000   40500.0      KB증권,삼성증권\n하나금융스팩21호    2022.02.09~02.10    2,000~2,000   2000   12000.0         하나금융투자\n퓨런티어         2022.02.07~02.08  11,400~13,700  15000   18240.0   유안타증권,신한금융투자\nIBKS스팩17호    2022.02.03~02.04    2,000~2,000   2000    5000.0        IBK투자증권",
      "text/html": "<div>\n<style scoped>\n    .dataframe tbody tr th:only-of-type {\n        vertical-align: middle;\n    }\n\n    .dataframe tbody tr th {\n        vertical-align: top;\n    }\n\n    .dataframe thead th {\n        text-align: right;\n    }\n</style>\n<table border=\"1\" class=\"dataframe\">\n  <thead>\n    <tr style=\"text-align: right;\">\n      <th></th>\n      <th>수요예측일</th>\n      <th>희망공모가(원)</th>\n      <th>확정공모가</th>\n      <th>공모금액(백만)</th>\n      <th>주간사</th>\n    </tr>\n    <tr>\n      <th>종목명</th>\n      <th></th>\n      <th></th>\n      <th></th>\n      <th></th>\n      <th></th>\n    </tr>\n  </thead>\n  <tbody>\n    <tr>\n      <th>지투파워</th>\n      <td>2022.03.17~03.18</td>\n      <td>13,500~16,400</td>\n      <td>NaN</td>\n      <td>11947.0</td>\n      <td>한국투자증권,KB증권</td>\n    </tr>\n    <tr>\n      <th>유진스팩8호</th>\n      <td>2022.03.17~03.18</td>\n      <td>2,000~2,000</td>\n      <td>NaN</td>\n      <td>10000.0</td>\n      <td>유진증권</td>\n    </tr>\n    <tr>\n      <th>신한스팩9호</th>\n      <td>2022.03.15~03.16</td>\n      <td>2,000~2,000</td>\n      <td>NaN</td>\n      <td>8000.0</td>\n      <td>신한금융투자</td>\n    </tr>\n    <tr>\n      <th>보로노이</th>\n      <td>2022.03.14~03.15</td>\n      <td>50,000~65,000</td>\n      <td>NaN</td>\n      <td>100000.0</td>\n      <td>한국투자증권,미래에셋증권</td>\n    </tr>\n    <tr>\n      <th>세아메카닉스</th>\n      <td>2022.03.10~03.11</td>\n      <td>3,500~4,000</td>\n      <td>NaN</td>\n      <td>23275.0</td>\n      <td>신한금융투자</td>\n    </tr>\n    <tr>\n      <th>미래에셋비전스팩1호</th>\n      <td>2022.03.10~03.11</td>\n      <td>2,000~2,000</td>\n      <td>NaN</td>\n      <td>11700.0</td>\n      <td>미래에셋증권</td>\n    </tr>\n    <tr>\n      <th>공구우먼</th>\n      <td>2022.03.07~03.08</td>\n      <td>26,000~31,000</td>\n      <td>NaN</td>\n      <td>36400.0</td>\n      <td>미래에셋증권</td>\n    </tr>\n    <tr>\n      <th>유일로보틱스</th>\n      <td>2022.02.24~02.25</td>\n      <td>7,600~9,200</td>\n      <td>NaN</td>\n      <td>16340.0</td>\n      <td>한국투자증권</td>\n    </tr>\n    <tr>\n      <th>대명에너지</th>\n      <td>2022.02.23~02.24</td>\n      <td>25,000~29,000</td>\n      <td>NaN</td>\n      <td>112500.0</td>\n      <td>한국투자증권,삼성증권</td>\n    </tr>\n    <tr>\n      <th>모아데이타</th>\n      <td>2022.02.21~02.22</td>\n      <td>24,000~28,000</td>\n      <td>NaN</td>\n      <td>19200.0</td>\n      <td>하나금융투자</td>\n    </tr>\n    <tr>\n      <th>코람코더원리츠(유가)</th>\n      <td>2022.02.21~02.22</td>\n      <td>5,000~5,000</td>\n      <td>NaN</td>\n      <td>97500.0</td>\n      <td>하나금융투자,삼성증권</td>\n    </tr>\n    <tr>\n      <th>SK증권스팩7호</th>\n      <td>2022.02.16~02.17</td>\n      <td>2,000~2,000</td>\n      <td>2000</td>\n      <td>6000.0</td>\n      <td>SK증권</td>\n    </tr>\n    <tr>\n      <th>비씨엔씨</th>\n      <td>2022.02.16~02.17</td>\n      <td>9,000~11,500</td>\n      <td>13000</td>\n      <td>22500.0</td>\n      <td>NH투자증권</td>\n    </tr>\n    <tr>\n      <th>노을</th>\n      <td>2022.02.15~02.16</td>\n      <td>13,000~17,000</td>\n      <td>10000</td>\n      <td>19500.0</td>\n      <td>한국투자증권, 삼성증권</td>\n    </tr>\n    <tr>\n      <th>브이씨</th>\n      <td>2022.02.10~02.11</td>\n      <td>15,000~19,500</td>\n      <td>15000</td>\n      <td>15000.0</td>\n      <td>한국투자증권</td>\n    </tr>\n    <tr>\n      <th>풍원정밀</th>\n      <td>2022.02.10~02.11</td>\n      <td>13,200~15,200</td>\n      <td>15200</td>\n      <td>39600.0</td>\n      <td>대신증권</td>\n    </tr>\n    <tr>\n      <th>스톤브릿지벤처스</th>\n      <td>2022.02.09~02.10</td>\n      <td>9,000~10,500</td>\n      <td>8000</td>\n      <td>40500.0</td>\n      <td>KB증권,삼성증권</td>\n    </tr>\n    <tr>\n      <th>하나금융스팩21호</th>\n      <td>2022.02.09~02.10</td>\n      <td>2,000~2,000</td>\n      <td>2000</td>\n      <td>12000.0</td>\n      <td>하나금융투자</td>\n    </tr>\n    <tr>\n      <th>퓨런티어</th>\n      <td>2022.02.07~02.08</td>\n      <td>11,400~13,700</td>\n      <td>15000</td>\n      <td>18240.0</td>\n      <td>유안타증권,신한금융투자</td>\n    </tr>\n    <tr>\n      <th>IBKS스팩17호</th>\n      <td>2022.02.03~02.04</td>\n      <td>2,000~2,000</td>\n      <td>2000</td>\n      <td>5000.0</td>\n      <td>IBK투자증권</td>\n    </tr>\n  </tbody>\n</table>\n</div>"
     },
     "execution_count": 127,
     "metadata": {},
     "output_type": "execute_result"
    }
   ],
   "source": [
    "ipo_df"
   ],
   "metadata": {
    "collapsed": false,
    "pycharm": {
     "name": "#%%\n"
    }
   }
  },
  {
   "cell_type": "code",
   "execution_count": 128,
   "outputs": [],
   "source": [
    "ipo_df_en = (ipo_df\n",
    "             .reset_index()[['종목명', '확정공모가', '공모금액(백만)', '주간사']]\n",
    "             .rename(columns={'종목명':'stock', '확정공모가':'ipo_price', '공모금액(백만)': 'ipo_value', '주간사':'security'})\n",
    "             .set_index('stock')\n",
    "             )"
   ],
   "metadata": {
    "collapsed": false,
    "pycharm": {
     "name": "#%%\n"
    }
   }
  },
  {
   "cell_type": "code",
   "execution_count": 129,
   "outputs": [
    {
     "data": {
      "text/plain": "            ipo_price  ipo_value       security demand_forecast_start  \\\n지투파워              NaN    11947.0    한국투자증권,KB증권            2022.03.17   \n유진스팩8호            NaN    10000.0           유진증권            2022.03.17   \n신한스팩9호            NaN     8000.0         신한금융투자            2022.03.15   \n보로노이              NaN   100000.0  한국투자증권,미래에셋증권            2022.03.14   \n세아메카닉스            NaN    23275.0         신한금융투자            2022.03.10   \n미래에셋비전스팩1호        NaN    11700.0         미래에셋증권            2022.03.10   \n공구우먼              NaN    36400.0         미래에셋증권            2022.03.07   \n유일로보틱스            NaN    16340.0         한국투자증권            2022.02.24   \n대명에너지             NaN   112500.0    한국투자증권,삼성증권            2022.02.23   \n모아데이타             NaN    19200.0         하나금융투자            2022.02.21   \n코람코더원리츠(유가)       NaN    97500.0    하나금융투자,삼성증권            2022.02.21   \nSK증권스팩7호         2000     6000.0           SK증권            2022.02.16   \n비씨엔씨            13000    22500.0         NH투자증권            2022.02.16   \n노을              10000    19500.0   한국투자증권, 삼성증권            2022.02.15   \n브이씨             15000    15000.0         한국투자증권            2022.02.10   \n풍원정밀            15200    39600.0           대신증권            2022.02.10   \n스톤브릿지벤처스         8000    40500.0      KB증권,삼성증권            2022.02.09   \n하나금융스팩21호        2000    12000.0         하나금융투자            2022.02.09   \n퓨런티어            15000    18240.0   유안타증권,신한금융투자            2022.02.07   \nIBKS스팩17호        2000     5000.0        IBK투자증권            2022.02.03   \n\n            demand_forecast_end  hope_price_min  hope_price_max  \n지투파워                 2022.03.18         13500.0         16400.0  \n유진스팩8호               2022.03.18          2000.0          2000.0  \n신한스팩9호               2022.03.16          2000.0          2000.0  \n보로노이                 2022.03.15         50000.0         65000.0  \n세아메카닉스               2022.03.11          3500.0          4000.0  \n미래에셋비전스팩1호           2022.03.11          2000.0          2000.0  \n공구우먼                 2022.03.08         26000.0         31000.0  \n유일로보틱스               2022.02.25          7600.0          9200.0  \n대명에너지                2022.02.24         25000.0         29000.0  \n모아데이타                2022.02.22         24000.0         28000.0  \n코람코더원리츠(유가)          2022.02.22          5000.0          5000.0  \nSK증권스팩7호             2022.02.17          2000.0          2000.0  \n비씨엔씨                 2022.02.17          9000.0         11500.0  \n노을                   2022.02.16         13000.0         17000.0  \n브이씨                  2022.02.11         15000.0         19500.0  \n풍원정밀                 2022.02.11         13200.0         15200.0  \n스톤브릿지벤처스             2022.02.10          9000.0         10500.0  \n하나금융스팩21호            2022.02.10          2000.0          2000.0  \n퓨런티어                 2022.02.08         11400.0         13700.0  \nIBKS스팩17호            2022.02.04          2000.0          2000.0  ",
      "text/html": "<div>\n<style scoped>\n    .dataframe tbody tr th:only-of-type {\n        vertical-align: middle;\n    }\n\n    .dataframe tbody tr th {\n        vertical-align: top;\n    }\n\n    .dataframe thead th {\n        text-align: right;\n    }\n</style>\n<table border=\"1\" class=\"dataframe\">\n  <thead>\n    <tr style=\"text-align: right;\">\n      <th></th>\n      <th>ipo_price</th>\n      <th>ipo_value</th>\n      <th>security</th>\n      <th>demand_forecast_start</th>\n      <th>demand_forecast_end</th>\n      <th>hope_price_min</th>\n      <th>hope_price_max</th>\n    </tr>\n  </thead>\n  <tbody>\n    <tr>\n      <th>지투파워</th>\n      <td>NaN</td>\n      <td>11947.0</td>\n      <td>한국투자증권,KB증권</td>\n      <td>2022.03.17</td>\n      <td>2022.03.18</td>\n      <td>13500.0</td>\n      <td>16400.0</td>\n    </tr>\n    <tr>\n      <th>유진스팩8호</th>\n      <td>NaN</td>\n      <td>10000.0</td>\n      <td>유진증권</td>\n      <td>2022.03.17</td>\n      <td>2022.03.18</td>\n      <td>2000.0</td>\n      <td>2000.0</td>\n    </tr>\n    <tr>\n      <th>신한스팩9호</th>\n      <td>NaN</td>\n      <td>8000.0</td>\n      <td>신한금융투자</td>\n      <td>2022.03.15</td>\n      <td>2022.03.16</td>\n      <td>2000.0</td>\n      <td>2000.0</td>\n    </tr>\n    <tr>\n      <th>보로노이</th>\n      <td>NaN</td>\n      <td>100000.0</td>\n      <td>한국투자증권,미래에셋증권</td>\n      <td>2022.03.14</td>\n      <td>2022.03.15</td>\n      <td>50000.0</td>\n      <td>65000.0</td>\n    </tr>\n    <tr>\n      <th>세아메카닉스</th>\n      <td>NaN</td>\n      <td>23275.0</td>\n      <td>신한금융투자</td>\n      <td>2022.03.10</td>\n      <td>2022.03.11</td>\n      <td>3500.0</td>\n      <td>4000.0</td>\n    </tr>\n    <tr>\n      <th>미래에셋비전스팩1호</th>\n      <td>NaN</td>\n      <td>11700.0</td>\n      <td>미래에셋증권</td>\n      <td>2022.03.10</td>\n      <td>2022.03.11</td>\n      <td>2000.0</td>\n      <td>2000.0</td>\n    </tr>\n    <tr>\n      <th>공구우먼</th>\n      <td>NaN</td>\n      <td>36400.0</td>\n      <td>미래에셋증권</td>\n      <td>2022.03.07</td>\n      <td>2022.03.08</td>\n      <td>26000.0</td>\n      <td>31000.0</td>\n    </tr>\n    <tr>\n      <th>유일로보틱스</th>\n      <td>NaN</td>\n      <td>16340.0</td>\n      <td>한국투자증권</td>\n      <td>2022.02.24</td>\n      <td>2022.02.25</td>\n      <td>7600.0</td>\n      <td>9200.0</td>\n    </tr>\n    <tr>\n      <th>대명에너지</th>\n      <td>NaN</td>\n      <td>112500.0</td>\n      <td>한국투자증권,삼성증권</td>\n      <td>2022.02.23</td>\n      <td>2022.02.24</td>\n      <td>25000.0</td>\n      <td>29000.0</td>\n    </tr>\n    <tr>\n      <th>모아데이타</th>\n      <td>NaN</td>\n      <td>19200.0</td>\n      <td>하나금융투자</td>\n      <td>2022.02.21</td>\n      <td>2022.02.22</td>\n      <td>24000.0</td>\n      <td>28000.0</td>\n    </tr>\n    <tr>\n      <th>코람코더원리츠(유가)</th>\n      <td>NaN</td>\n      <td>97500.0</td>\n      <td>하나금융투자,삼성증권</td>\n      <td>2022.02.21</td>\n      <td>2022.02.22</td>\n      <td>5000.0</td>\n      <td>5000.0</td>\n    </tr>\n    <tr>\n      <th>SK증권스팩7호</th>\n      <td>2000</td>\n      <td>6000.0</td>\n      <td>SK증권</td>\n      <td>2022.02.16</td>\n      <td>2022.02.17</td>\n      <td>2000.0</td>\n      <td>2000.0</td>\n    </tr>\n    <tr>\n      <th>비씨엔씨</th>\n      <td>13000</td>\n      <td>22500.0</td>\n      <td>NH투자증권</td>\n      <td>2022.02.16</td>\n      <td>2022.02.17</td>\n      <td>9000.0</td>\n      <td>11500.0</td>\n    </tr>\n    <tr>\n      <th>노을</th>\n      <td>10000</td>\n      <td>19500.0</td>\n      <td>한국투자증권, 삼성증권</td>\n      <td>2022.02.15</td>\n      <td>2022.02.16</td>\n      <td>13000.0</td>\n      <td>17000.0</td>\n    </tr>\n    <tr>\n      <th>브이씨</th>\n      <td>15000</td>\n      <td>15000.0</td>\n      <td>한국투자증권</td>\n      <td>2022.02.10</td>\n      <td>2022.02.11</td>\n      <td>15000.0</td>\n      <td>19500.0</td>\n    </tr>\n    <tr>\n      <th>풍원정밀</th>\n      <td>15200</td>\n      <td>39600.0</td>\n      <td>대신증권</td>\n      <td>2022.02.10</td>\n      <td>2022.02.11</td>\n      <td>13200.0</td>\n      <td>15200.0</td>\n    </tr>\n    <tr>\n      <th>스톤브릿지벤처스</th>\n      <td>8000</td>\n      <td>40500.0</td>\n      <td>KB증권,삼성증권</td>\n      <td>2022.02.09</td>\n      <td>2022.02.10</td>\n      <td>9000.0</td>\n      <td>10500.0</td>\n    </tr>\n    <tr>\n      <th>하나금융스팩21호</th>\n      <td>2000</td>\n      <td>12000.0</td>\n      <td>하나금융투자</td>\n      <td>2022.02.09</td>\n      <td>2022.02.10</td>\n      <td>2000.0</td>\n      <td>2000.0</td>\n    </tr>\n    <tr>\n      <th>퓨런티어</th>\n      <td>15000</td>\n      <td>18240.0</td>\n      <td>유안타증권,신한금융투자</td>\n      <td>2022.02.07</td>\n      <td>2022.02.08</td>\n      <td>11400.0</td>\n      <td>13700.0</td>\n    </tr>\n    <tr>\n      <th>IBKS스팩17호</th>\n      <td>2000</td>\n      <td>5000.0</td>\n      <td>IBK투자증권</td>\n      <td>2022.02.03</td>\n      <td>2022.02.04</td>\n      <td>2000.0</td>\n      <td>2000.0</td>\n    </tr>\n  </tbody>\n</table>\n</div>"
     },
     "execution_count": 129,
     "metadata": {},
     "output_type": "execute_result"
    }
   ],
   "source": [
    "pd.concat([ipo_df_en, demant_forecast_time[['demand_forecast_start', 'demand_forecast_end']], hope_price], axis=1)"
   ],
   "metadata": {
    "collapsed": false,
    "pycharm": {
     "name": "#%%\n"
    }
   }
  },
  {
   "cell_type": "code",
   "execution_count": 129,
   "outputs": [],
   "source": [],
   "metadata": {
    "collapsed": false,
    "pycharm": {
     "name": "#%%\n"
    }
   }
  }
 ],
 "metadata": {
  "kernelspec": {
   "display_name": "Python 3",
   "language": "python",
   "name": "python3"
  },
  "language_info": {
   "codemirror_mode": {
    "name": "ipython",
    "version": 2
   },
   "file_extension": ".py",
   "mimetype": "text/x-python",
   "name": "python",
   "nbconvert_exporter": "python",
   "pygments_lexer": "ipython2",
   "version": "2.7.6"
  }
 },
 "nbformat": 4,
 "nbformat_minor": 0
}